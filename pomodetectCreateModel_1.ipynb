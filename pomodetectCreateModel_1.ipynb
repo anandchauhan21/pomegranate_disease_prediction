{
  "cells": [
    {
      "cell_type": "markdown",
      "metadata": {
        "id": "view-in-github",
        "colab_type": "text"
      },
      "source": [
        "<a href=\"https://colab.research.google.com/github/anandchauhan21/pomegranate_disease_prediction/blob/main/pomodetectCreateModel_1.ipynb\" target=\"_parent\"><img src=\"https://colab.research.google.com/assets/colab-badge.svg\" alt=\"Open In Colab\"/></a>"
      ]
    },
    {
      "cell_type": "code",
      "execution_count": null,
      "metadata": {
        "colab": {
          "base_uri": "https://localhost:8080/"
        },
        "id": "uL3KWVAQw6o6",
        "outputId": "32c28056-5fe7-4450-be04-c059b359a483"
      },
      "outputs": [
        {
          "name": "stdout",
          "output_type": "stream",
          "text": [
            "Libraries imported...\n"
          ]
        }
      ],
      "source": [
        "# Load libraries\n",
        "import numpy as np\n",
        "import cv2\n",
        "# from skimage import data\n",
        "from skimage.color import rgb2hsv\n",
        "import os\n",
        "from sklearn.model_selection import train_test_split\n",
        "# import matplotlib.pyplot as plt\n",
        "from keras.preprocessing.image import ImageDataGenerator\n",
        "from keras.utils.np_utils import to_categorical\n",
        "from keras.models import Sequential\n",
        "from keras.layers import Dense\n",
        "from tensorflow.keras.optimizers import Adam\n",
        "from keras.layers import Dropout, Flatten\n",
        "from keras.layers.convolutional import Conv2D, MaxPooling2D\n",
        "# import matplotlib.pyplot as plt\n",
        "print('Libraries imported...')"
      ]
    },
    {
      "cell_type": "code",
      "source": [
        ""
      ],
      "metadata": {
        "id": "juuwTPjQGZX3"
      },
      "execution_count": null,
      "outputs": []
    },
    {
      "cell_type": "code",
      "execution_count": null,
      "metadata": {
        "id": "lvJ8SVl_7J2q"
      },
      "outputs": [],
      "source": [
        "# function to detect pomo\n",
        "def PomoDetect(curImgt):\n",
        "    # image pre processing\n",
        "    #cv2.imshow('RGB image', curImgt)\n",
        "    I = cv2.cvtColor(curImgt, cv2.COLOR_BGR2RGB)  # convert BGR to RGB image\n",
        "    Igray = cv2.cvtColor(curImgt, cv2.COLOR_BGR2GRAY)  # covert image to grayscale\n",
        "    Ig = cv2.GaussianBlur(I, (19, 19), 0)  # apply gaussian blur\n",
        "    # print('Gaussian blurred')\n",
        "    # Ig = cv2.medianBlur(I, 5)# change this for changing blurring method\n",
        "\n",
        "    # HSV Conversions\n",
        "    Ihsv = rgb2hsv(Ig)  # convert gaussian blurred image to HSV\n",
        "    Ih = np.uint8(255 * Ihsv[:, :, 0])  # hue plane is in range 0-1, change to 0-255 range\n",
        "\n",
        "    # HSV Filtering for upper hue band\n",
        "    Hmin = 230\n",
        "    Hmax = 255\n",
        "    Ib1 = ((Ih <= Hmax) & (Ih >= Hmin))  # create BW mask within hue range\n",
        "    # plt.imshow(Ib1, cmap='gray')\n",
        "    # plt.title('hue mask1')\n",
        "    # plt.show()\n",
        "\n",
        "    # HSV Filtering for lower hue band\n",
        "    Hmin = 0\n",
        "    Hmax = 30\n",
        "    Ib2 = ((Ih <= Hmax) & (Ih >= Hmin))  # create BW mask within hue range\n",
        "    # plt.imshow(Ib2, cmap='gray')\n",
        "    # plt.title('hue mask2')\n",
        "    # plt.show()\n",
        "\n",
        "    # Combining both HSV Filtered mask\n",
        "    Ib = np.uint8(255 * (Ib1 | Ib2))\n",
        "    # plt.imshow(Ib, cmap='gray')\n",
        "    # plt.title('combine hue mask')\n",
        "    # plt.show()\n",
        "    # print('HSV Filtering')\n",
        "\n",
        "    # Filter using contour area and remove small white regions\n",
        "    cnts = cv2.findContours(Ib, cv2.RETR_TREE, cv2.CHAIN_APPROX_SIMPLE)\n",
        "    cnts = cnts[0] if len(cnts) == 2 else cnts[1]\n",
        "    for c in cnts:\n",
        "        area = cv2.contourArea(c)\n",
        "        if area < 10000:  # blank all regions less than this pixel area\n",
        "            cv2.drawContours(Ib, [c], -1, (0, 0, 0), -1)\n",
        "\n",
        "    # Morph close the inner black regions\n",
        "    kernel = cv2.getStructuringElement(cv2.MORPH_ELLIPSE, (20, 20))  # create structure element for closing operation\n",
        "    Iclose = np.uint8(cv2.morphologyEx(Ib, cv2.MORPH_CLOSE, kernel, iterations=2))  # apply morphology closing operation\n",
        "    # print('Applying contour filtering')\n",
        "    # print(Iclose[50,:])\n",
        "    # plt.imshow(Iclose, cmap='gray')\n",
        "    # plt.title('countour')\n",
        "    # plt.show()\n",
        "\n",
        "    # find circles in the BW mask image\n",
        "    Cmax = 70  # maximum cutt off threshold for circle detection\n",
        "    NCir = 0  # no of circles assumed 0\n",
        "    RadMin = 150\n",
        "    RadMax = 300\n",
        "    H, W = Iclose.shape\n",
        "    # print (H,'x', W)\n",
        "    while NCir == 0 and Cmax > 0:  # run loop till circle detected or Circle Threshold >0\n",
        "        circles = cv2.HoughCircles(np.uint8(Iclose), cv2.HOUGH_GRADIENT, 2, minDist=100, param1=100,\n",
        "                                   param2=Cmax, minRadius=RadMin, maxRadius=RadMax)\n",
        "        # ax = plt.gca()\n",
        "        if circles is None:  # if no circles detected\n",
        "            # print('No circles, Cmax=', Cmax)\n",
        "            NCir = 0\n",
        "            Cmax = Cmax - 2,  # reduce the Circle Threshold value and repeat the circle detection\n",
        "            Cmax = Cmax[0]\n",
        "        else:\n",
        "            circles2 = np.int16(circles)  # get circles into integer\n",
        "            NCir = len(circles2[0])  # total circles\n",
        "            # print('total circles=', NCir)\n",
        "            # print(circles)\n",
        "            # for circle in circles2[0, 0]:\n",
        "\n",
        "            i = circles2[0][0]  # first circle location\n",
        "            i = np.array(i)\n",
        "            # tc=circles2[0,:]\n",
        "            # i=tc[5]\n",
        "            # print(i)\n",
        "            # draw the main circle of pomo detected area\n",
        "            # c1 = plt.Circle((i[0], i[1]), i[2], facecolor='none', edgecolor='b')# draw circle\n",
        "            # draw the center of the circle\n",
        "            # c2 = plt.Circle((i[0], i[1]), 2, facecolor='none', edgecolor='b')# draw centre of circle\n",
        "            Ymin = i[0] - i[2]  # Xmin of circle\n",
        "            Ymax = i[0] + i[2]  # xmax of circle\n",
        "            Xmin = i[1] - i[2]  # ymiin of circle\n",
        "            Xmax = i[1] + i[2]  # ymax of circle\n",
        "            if Xmin < 0:  # if xmin is less than 0, limit to 0\n",
        "                Xmin = 0\n",
        "            if Ymin < 0:\n",
        "                Ymin = 0\n",
        "            if Xmax > H:  # if max is > image size limit to H,W\n",
        "                Xmax = H\n",
        "            if Ymax > W:\n",
        "                Ymax = W\n",
        "            # img = cv2.rectangle(Iclose, (Xmin, Ymin), (Xmax, Ymax), (255, 0, 0))\n",
        "            # cv2.imshow('Cropped', img)\n",
        "\n",
        "            # print(Xmin, ':', Xmax, ',', Ymin, ':', Ymax)\n",
        "            Icut = Igray[Ymin:Ymax, Xmin:Xmax]  # crop the circle image area and return it\n",
        "            # plt.imshow(Icut, cmap='gray')\n",
        "            # plt.title('Crop image')\n",
        "            # plt.show()\n",
        "            # cv2.imshow('cropped', Icut)\n",
        "            #        ax.add_artist(c1)\n",
        "            #        ax.add_artist(c2)\n",
        "\n",
        "            #      plt.imshow(I, cmap='gray')\n",
        "            #      plt.title('detected')\n",
        "            #      plt.show()\n",
        "    return Icut "
      ]
    },
    {
      "cell_type": "code",
      "execution_count": null,
      "metadata": {
        "colab": {
          "base_uri": "https://localhost:8080/"
        },
        "id": "0kazhPmsSfLm",
        "outputId": "c8365f03-1f58-463d-dddc-161e4187279c"
      },
      "outputs": [
        {
          "name": "stdout",
          "output_type": "stream",
          "text": [
            "Drive already mounted at /content/drive; to attempt to forcibly remount, call drive.mount(\"/content/drive\", force_remount=True).\n"
          ]
        }
      ],
      "source": [
        "from google.colab import drive\n",
        "drive.mount('/content/drive')"
      ]
    },
    {
      "cell_type": "code",
      "execution_count": null,
      "metadata": {
        "id": "o5MFqTvsS04I"
      },
      "outputs": [],
      "source": [
        ""
      ]
    },
    {
      "cell_type": "code",
      "execution_count": null,
      "metadata": {
        "colab": {
          "base_uri": "https://localhost:8080/"
        },
        "id": "NKgOEQhx7dp2",
        "outputId": "6908ea1f-8101-43a3-86d6-0816d0382444"
      },
      "outputs": [
        {
          "name": "stdout",
          "output_type": "stream",
          "text": [
            "/content/drive/MyDrive/mypomData\n"
          ]
        }
      ],
      "source": [
        "crnt_path ='/content/drive/'\n",
        "#ImageDB_Path = os.path.join(crnt_path, 'MyDrive','Colab Notebooks', 'mypomData')# prepares path of google driver\n",
        "ImageDB_Path='/content/drive/MyDrive/mypomData'\n",
        "print(ImageDB_Path)"
      ]
    },
    {
      "cell_type": "code",
      "execution_count": null,
      "metadata": {
        "colab": {
          "base_uri": "https://localhost:8080/"
        },
        "id": "glX5bC527y1G",
        "outputId": "79810efc-4327-4580-c908-ad41112b471a"
      },
      "outputs": [
        {
          "name": "stdout",
          "output_type": "stream",
          "text": [
            "Total Classes Detected: 4\n",
            "Importing Classes .......\n"
          ]
        }
      ],
      "source": [
        "# IMPORTING DATA/IMAGES FROM FOLDERS\n",
        "RH = 250\n",
        "RW = 250\n",
        "count = 0\n",
        "images = []  # LIST CONTAINING ALL THE IMAGES\n",
        "classNo = []  # LIST CONTAINING ALL THE CORRESPONDING CLASS ID OF IMAGES\n",
        "myList = os.listdir(ImageDB_Path)  # print the path\n",
        "print(\"Total Classes Detected:\", len(myList))  # list the total class (types of pomo, here only 2)\n",
        "noOfClasses = len(myList)  # length of list\n",
        "print(\"Importing Classes .......\")\n"
      ]
    },
    {
      "cell_type": "code",
      "execution_count": null,
      "metadata": {
        "colab": {
          "base_uri": "https://localhost:8080/"
        },
        "id": "DrE3Q-TD8r_n",
        "outputId": "cb07bc9c-fc11-4d48-96c5-6415e1a1525f"
      },
      "outputs": [
        {
          "name": "stdout",
          "output_type": "stream",
          "text": [
            "/content/drive/MyDrive/mypomData/0\n"
          ]
        }
      ],
      "source": [
        "FolderName = 0\n",
        "myPicList = os.path.join(ImageDB_Path,str(FolderName))\n",
        "print(myPicList)"
      ]
    },
    {
      "cell_type": "code",
      "execution_count": null,
      "metadata": {
        "colab": {
          "base_uri": "https://localhost:8080/"
        },
        "id": "Zxki17Gp78gx",
        "outputId": "36e22b43-64c2-4ba1-9265-f4cdc39fe84c"
      },
      "outputs": [
        {
          "name": "stdout",
          "output_type": "stream",
          "text": [
            "\n",
            "\n",
            " *********************Reading folder:  0, ******************************\n",
            "/content/drive/MyDrive/mypomData/0/img001-00012.jpg\n",
            "/content/drive/MyDrive/mypomData/0/img001-00014.jpg\n",
            "/content/drive/MyDrive/mypomData/0/img001-00015.jpg\n",
            "/content/drive/MyDrive/mypomData/0/img001-00016.jpg\n",
            "/content/drive/MyDrive/mypomData/0/img001-00017.jpg\n",
            "/content/drive/MyDrive/mypomData/0/img001-00018.jpg\n",
            "/content/drive/MyDrive/mypomData/0/img001-00007.jpg\n",
            "/content/drive/MyDrive/mypomData/0/img001-00008.jpg\n",
            "/content/drive/MyDrive/mypomData/0/img001-00009.jpg\n",
            "/content/drive/MyDrive/mypomData/0/img001-00010.jpg\n",
            "/content/drive/MyDrive/mypomData/0/img001-00011.jpg\n",
            "/content/drive/MyDrive/mypomData/0/img001-00013.jpg\n",
            "/content/drive/MyDrive/mypomData/0/img001-00019.jpg\n",
            "/content/drive/MyDrive/mypomData/0/img001-00001.jpg\n",
            "/content/drive/MyDrive/mypomData/0/img001-00002.jpg\n",
            "/content/drive/MyDrive/mypomData/0/img001-00003-not detecting.jpg\n",
            "/content/drive/MyDrive/mypomData/0/img001-00004.jpg\n",
            "/content/drive/MyDrive/mypomData/0/img001-00005.jpg\n",
            "/content/drive/MyDrive/mypomData/0/img001-00006-oversized.jpg\n",
            "/content/drive/MyDrive/mypomData/0/img001-00020.jpg\n",
            "\n",
            "\n",
            " *********************Reading folder:  1, ******************************\n",
            "/content/drive/MyDrive/mypomData/1/img002-00001.jpg\n",
            "/content/drive/MyDrive/mypomData/1/img002-00002.jpg\n",
            "/content/drive/MyDrive/mypomData/1/img002-00003.jpg\n",
            "/content/drive/MyDrive/mypomData/1/img002-00005.jpg\n",
            "/content/drive/MyDrive/mypomData/1/img002-00006.jpg\n",
            "/content/drive/MyDrive/mypomData/1/img002-00007.jpg\n",
            "/content/drive/MyDrive/mypomData/1/img002-00017.jpg\n",
            "/content/drive/MyDrive/mypomData/1/img002-00012.jpg\n",
            "/content/drive/MyDrive/mypomData/1/img002-00008 (1).jpg\n",
            "/content/drive/MyDrive/mypomData/1/img002-00016.jpg\n",
            "/content/drive/MyDrive/mypomData/1/img002-00008.jpg\n",
            "/content/drive/MyDrive/mypomData/1/img002-00015.jpg\n",
            "/content/drive/MyDrive/mypomData/1/img002-00024.jpg\n",
            "/content/drive/MyDrive/mypomData/1/img002-00010 (1).jpg\n",
            "/content/drive/MyDrive/mypomData/1/img002-00042.jpg\n",
            "/content/drive/MyDrive/mypomData/1/img002-00013.jpg\n",
            "/content/drive/MyDrive/mypomData/1/img002-00011.jpg\n",
            "/content/drive/MyDrive/mypomData/1/img002-00047.jpg\n",
            "/content/drive/MyDrive/mypomData/1/img002-00014.jpg\n",
            "/content/drive/MyDrive/mypomData/1/img002-00020.jpg\n",
            "/content/drive/MyDrive/mypomData/1/img002-00009.jpg\n",
            "/content/drive/MyDrive/mypomData/1/img002-00027.jpg\n",
            "/content/drive/MyDrive/mypomData/1/img002-00048 (1).jpg\n",
            "/content/drive/MyDrive/mypomData/1/img002-00021 (1).jpg\n",
            "/content/drive/MyDrive/mypomData/1/img002-00019.jpg\n",
            "/content/drive/MyDrive/mypomData/1/img002-00025.jpg\n",
            "/content/drive/MyDrive/mypomData/1/img002-00048.jpg\n",
            "/content/drive/MyDrive/mypomData/1/img002-00043.jpg\n",
            "/content/drive/MyDrive/mypomData/1/img002-00010.jpg\n",
            "/content/drive/MyDrive/mypomData/1/img002-00038.jpg\n",
            "/content/drive/MyDrive/mypomData/1/img002-00023.jpg\n",
            "/content/drive/MyDrive/mypomData/1/img002-00021.jpg\n",
            "/content/drive/MyDrive/mypomData/1/img002-00036 (1).jpg\n",
            "/content/drive/MyDrive/mypomData/1/img002-00035.jpg\n",
            "/content/drive/MyDrive/mypomData/1/img002-00039.jpg\n",
            "/content/drive/MyDrive/mypomData/1/img002-00036.jpg\n",
            "/content/drive/MyDrive/mypomData/1/img002-00049.jpg\n",
            "/content/drive/MyDrive/mypomData/1/img002-00046.jpg\n",
            "/content/drive/MyDrive/mypomData/1/img002-00032 (1).jpg\n",
            "/content/drive/MyDrive/mypomData/1/img002-00026.jpg\n",
            "/content/drive/MyDrive/mypomData/1/img002-00050.jpg\n",
            "/content/drive/MyDrive/mypomData/1/img002-00028.jpg\n",
            "/content/drive/MyDrive/mypomData/1/img002-00040.jpg\n",
            "/content/drive/MyDrive/mypomData/1/img002-00032.jpg\n",
            "/content/drive/MyDrive/mypomData/1/img002-00045.jpg\n",
            "/content/drive/MyDrive/mypomData/1/img002-00034 (1).jpg\n",
            "/content/drive/MyDrive/mypomData/1/img002-00034.jpg\n",
            "/content/drive/MyDrive/mypomData/1/img002-00044.jpg\n",
            "/content/drive/MyDrive/mypomData/1/img002-00022.jpg\n",
            "/content/drive/MyDrive/mypomData/1/img002-00029.jpg\n",
            "/content/drive/MyDrive/mypomData/1/img002-00041.jpg\n",
            "/content/drive/MyDrive/mypomData/1/img002-00037.jpg\n",
            "/content/drive/MyDrive/mypomData/1/img002-00030.jpg\n",
            "\n",
            "\n",
            " *********************Reading folder:  2, ******************************\n",
            "/content/drive/MyDrive/mypomData/2/img003-00032.jpg\n",
            "/content/drive/MyDrive/mypomData/2/img003-00034.jpg\n",
            "/content/drive/MyDrive/mypomData/2/img003-00035.jpg\n",
            "/content/drive/MyDrive/mypomData/2/img003-00033.jpg\n",
            "/content/drive/MyDrive/mypomData/2/img003-00043.jpg\n",
            "/content/drive/MyDrive/mypomData/2/img003-00046.jpg\n",
            "/content/drive/MyDrive/mypomData/2/img003-00042.jpg\n",
            "/content/drive/MyDrive/mypomData/2/img003-00041.jpg\n",
            "/content/drive/MyDrive/mypomData/2/img003-00044.jpg\n",
            "/content/drive/MyDrive/mypomData/2/img003-00020.jpg\n",
            "/content/drive/MyDrive/mypomData/2/img003-00045.jpg\n",
            "/content/drive/MyDrive/mypomData/2/img003-00036.jpg\n",
            "/content/drive/MyDrive/mypomData/2/img003-00047.jpg\n",
            "/content/drive/MyDrive/mypomData/2/img003-00048.jpg\n",
            "/content/drive/MyDrive/mypomData/2/img003-00028.jpg\n",
            "/content/drive/MyDrive/mypomData/2/img003-00049.jpg\n",
            "/content/drive/MyDrive/mypomData/2/img003-00040.jpg\n",
            "/content/drive/MyDrive/mypomData/2/img003-00026.jpg\n",
            "/content/drive/MyDrive/mypomData/2/img003-00022.jpg\n",
            "/content/drive/MyDrive/mypomData/2/img003-00023.jpg\n",
            "/content/drive/MyDrive/mypomData/2/img003-00024.jpg\n",
            "/content/drive/MyDrive/mypomData/2/img003-00027.jpg\n",
            "/content/drive/MyDrive/mypomData/2/img003-00039.jpg\n",
            "/content/drive/MyDrive/mypomData/2/img003-00050.jpg\n",
            "/content/drive/MyDrive/mypomData/2/img003-00012.jpg\n",
            "/content/drive/MyDrive/mypomData/2/img003-00037.jpg\n",
            "/content/drive/MyDrive/mypomData/2/img003-00038.jpg\n",
            "/content/drive/MyDrive/mypomData/2/img003-00025.jpg\n",
            "/content/drive/MyDrive/mypomData/2/img003-00018.jpg\n",
            "/content/drive/MyDrive/mypomData/2/img003-00002.jpg\n",
            "/content/drive/MyDrive/mypomData/2/img003-00030.jpg\n",
            "/content/drive/MyDrive/mypomData/2/img003-00021.jpg\n",
            "/content/drive/MyDrive/mypomData/2/img003-00014.jpg\n",
            "/content/drive/MyDrive/mypomData/2/img003-00009.jpg\n",
            "/content/drive/MyDrive/mypomData/2/img003-00005.jpg\n",
            "/content/drive/MyDrive/mypomData/2/img003-00006.jpg\n",
            "/content/drive/MyDrive/mypomData/2/img003-00013.jpg\n",
            "/content/drive/MyDrive/mypomData/2/img003-00008.jpg\n",
            "/content/drive/MyDrive/mypomData/2/img003-00019.jpg\n",
            "/content/drive/MyDrive/mypomData/2/img003-00015.jpg\n",
            "/content/drive/MyDrive/mypomData/2/img003-00017.jpg\n",
            "/content/drive/MyDrive/mypomData/2/img003-00029.jpg\n",
            "/content/drive/MyDrive/mypomData/2/img003-00011.jpg\n",
            "/content/drive/MyDrive/mypomData/2/img003-00016.jpg\n",
            "/content/drive/MyDrive/mypomData/2/img003-00031.jpg\n",
            "/content/drive/MyDrive/mypomData/2/img003-00010.jpg\n",
            "/content/drive/MyDrive/mypomData/2/img003-00004.jpg\n",
            "/content/drive/MyDrive/mypomData/2/img003-00007.jpg\n",
            "/content/drive/MyDrive/mypomData/2/img003-00003.jpg\n",
            "/content/drive/MyDrive/mypomData/2/img003-00001.jpg\n",
            "\n",
            "\n",
            " *********************Reading folder:  3, ******************************\n",
            "/content/drive/MyDrive/mypomData/3/img004-0001.jpg\n",
            "/content/drive/MyDrive/mypomData/3/img004-0002.jpg\n",
            "/content/drive/MyDrive/mypomData/3/img004-0004.jpg\n",
            "/content/drive/MyDrive/mypomData/3/img004-0005.jpg\n",
            "/content/drive/MyDrive/mypomData/3/img004-0006.jpg\n",
            "/content/drive/MyDrive/mypomData/3/img004-0007.jpg\n"
          ]
        }
      ],
      "source": [
        "\n",
        "for FolderName in range(0, noOfClasses):  # read all folders\n",
        "    #myPicList = os.listdir(ImageDB_Path + \"\\\\\" + str(FolderName))  # read folder\n",
        "    PicLocations = os.path.join(ImageDB_Path,str(FolderName))\n",
        "    myPicList = os.listdir(PicLocations)\n",
        "    print('\\n\\n *********************Reading folder: ', FolderName, end=\", ******************************\\n\")\n",
        "    for y in myPicList:  # read all images in a folder\n",
        "        #tpath = ImageDB_Path + \"\\\\\" + str(FolderName) + \"\\\\\" + y\n",
        "        tpath = os.path.join(PicLocations,y)\n",
        "        print(tpath)\n",
        "        curImg = cv2.imread(tpath)  # read image\n",
        "        #cv2.imshow('org file', np.array(curImg))\n",
        "\n",
        "        Icut = PomoDetect(curImg)  # detect pomo area in that image\n",
        "        # cv2.waitKey(0)\n",
        "        Icut2 = Icut / 255  # scale the image\n",
        "        Ir = cv2.resize(Icut2, (RH, RW))  # resize the image to 125x125\n",
        "        # curImg = cv2.cvtColor(curImg,cv2.COLOR_BGR2HSV)\n",
        "        images.append(Ir)  # append to image database\n",
        "        classNo.append(FolderName)  # append classes to classes database\n"
      ]
    },
    {
      "cell_type": "code",
      "execution_count": null,
      "metadata": {
        "colab": {
          "base_uri": "https://localhost:8080/"
        },
        "id": "MXmT-kS-98Zm",
        "outputId": "96d27f89-35f0-4b64-c04a-2b83a065dd78"
      },
      "outputs": [
        {
          "name": "stdout",
          "output_type": "stream",
          "text": [
            " \n",
            "Total Images in Images List =  129\n",
            "Total IDS in classNo List=  129\n",
            "image size=(129, 250, 250)\n"
          ]
        }
      ],
      "source": [
        "print(\" \")\n",
        "print(\"Total Images in Images List = \", len(images))\n",
        "print(\"Total IDS in classNo List= \", len(classNo))\n",
        "\n",
        "# CONVERT TO NUMPY ARRAY\n",
        "images = np.array(images)\n",
        "classNo = np.array(classNo)\n",
        "print('image size=' + str(images.shape))"
      ]
    },
    {
      "cell_type": "code",
      "execution_count": null,
      "metadata": {
        "colab": {
          "base_uri": "https://localhost:8080/"
        },
        "id": "iJDF7NbJ-AjE",
        "outputId": "c5614046-6007-4128-ec49-8b94867f0cc9"
      },
      "outputs": [
        {
          "name": "stdout",
          "output_type": "stream",
          "text": [
            "Parameters initialised\n"
          ]
        }
      ],
      "source": [
        "# SPLITTING THE DATA\n",
        "testRatio = 0.2\n",
        "valRatio = 0.2\n",
        "imageDimensions = (RH, RW, 3)  # image dimension for processing\n",
        "batchSizeVal = 2\n",
        "epochsVal = 30  # no of epoch for making algorithm best fit\n",
        "stepsPerEpochVal = 2000\n",
        "print(\"Parameters initialised\")"
      ]
    },
    {
      "cell_type": "code",
      "execution_count": null,
      "metadata": {
        "colab": {
          "base_uri": "https://localhost:8080/"
        },
        "id": "4QOqh4PD-di8",
        "outputId": "fd5731f4-2342-4538-fc51-16b6b8728df5"
      },
      "outputs": [
        {
          "name": "stdout",
          "output_type": "stream",
          "text": [
            "Training Image size=(82, 250, 250)\n",
            "Test Image size=(26, 250, 250)\n",
            "Validation images size=(21, 250, 250)\n"
          ]
        }
      ],
      "source": [
        "# split the training and test images\n",
        "X_train, X_test, y_train, y_test = train_test_split(images, classNo, test_size=testRatio)\n",
        "X_train, X_validation, y_train, y_validation = train_test_split(X_train, y_train, test_size=valRatio)\n",
        "print('Training Image size=' + str(X_train.shape))\n",
        "print('Test Image size=' + str(X_test.shape))\n",
        "print('Validation images size=' + str(X_validation.shape))\n",
        "\n",
        "X_train = np.array(list(X_train))\n",
        "X_test = np.array(list(X_test))\n",
        "X_validation = np.array(list(X_validation))"
      ]
    },
    {
      "cell_type": "code",
      "execution_count": null,
      "metadata": {
        "colab": {
          "base_uri": "https://localhost:8080/"
        },
        "id": "N-f_5tjT-iuI",
        "outputId": "5bc9545c-63be-4e67-9f51-ef05576dc622"
      },
      "outputs": [
        {
          "name": "stdout",
          "output_type": "stream",
          "text": [
            "82 250 250\n",
            "Image data reshaping done\n"
          ]
        }
      ],
      "source": [
        "# RESHAPE IMAGE DATABASES\n",
        "print(X_train.shape[0], X_train.shape[1], X_train.shape[2])\n",
        "X_train = X_train.reshape(X_train.shape[0], X_train.shape[1], X_train.shape[2], 1)\n",
        "X_test = X_test.reshape(X_test.shape[0], X_test.shape[1], X_test.shape[2], 1)\n",
        "X_validation = X_validation.reshape(X_validation.shape[0], X_validation.shape[1], X_validation.shape[2], 1)\n",
        "print('Image data reshaping done')\n",
        "\n",
        "# ONE HOT ENCODING OF MATRICES\n",
        "y_train = to_categorical(y_train, noOfClasses)\n",
        "y_test = to_categorical(y_test, noOfClasses)\n",
        "y_validation = to_categorical(y_validation, noOfClasses)"
      ]
    },
    {
      "cell_type": "code",
      "execution_count": null,
      "metadata": {
        "id": "pz1KueXH-m2X"
      },
      "outputs": [],
      "source": [
        "# CREATING THE MODEL\n",
        "def myModel():\n",
        "    noOfFilters = 60  # no of filters to be used\n",
        "    sizeOfFilter1 = (5, 5)  # first convolution filter size\n",
        "    sizeOfFilter2 = (3, 3)  # second convolution filter size\n",
        "    sizeOfPool = (2, 2)\n",
        "    noOfNodes = 1000  # no of NN nodes\n",
        "\n",
        "    model = Sequential()  # initialise model type\n",
        "    model.add((Conv2D(noOfFilters, sizeOfFilter1, input_shape=(imageDimensions[0],\n",
        "                                                               imageDimensions[1], 1),\n",
        "                      activation='relu')))  # add layer 1\n",
        "    model.add((Conv2D(noOfFilters, sizeOfFilter1, activation='relu')))  # layer 2\n",
        "    model.add(MaxPooling2D(pool_size=sizeOfPool))\n",
        "    model.add((Conv2D(noOfFilters // 2, sizeOfFilter2, activation='relu')))  # layer 3\n",
        "    model.add((Conv2D(noOfFilters // 2, sizeOfFilter2, activation='relu')))  # layer 4\n",
        "    model.add(MaxPooling2D(pool_size=sizeOfPool))\n",
        "    model.add(Dropout(0.2))\n",
        "\n",
        "    model.add(Flatten())  # convert 2D feature matrix to 1D vector\n",
        "    model.add(Dense(noOfNodes, activation='relu'))\n",
        "    model.add(Dropout(0.2))\n",
        "    model.add(Dense(noOfClasses, activation='softmax'))\n",
        "\n",
        "    model.compile(Adam(lr=0.001), loss='categorical_crossentropy', metrics=['accuracy'])  # compile the model\n",
        "    return model"
      ]
    },
    {
      "cell_type": "code",
      "execution_count": null,
      "metadata": {
        "colab": {
          "base_uri": "https://localhost:8080/"
        },
        "id": "JUDA_Moz-rLD",
        "outputId": "3a3e394b-e7a8-4057-cb51-79e23c948d4d"
      },
      "outputs": [
        {
          "name": "stdout",
          "output_type": "stream",
          "text": [
            "++++++++++++++ MODEL CREATED ++++++++++\n",
            "Model: \"sequential\"\n",
            "_________________________________________________________________\n",
            " Layer (type)                Output Shape              Param #   \n",
            "=================================================================\n",
            " conv2d (Conv2D)             (None, 246, 246, 60)      1560      \n",
            "                                                                 \n",
            " conv2d_1 (Conv2D)           (None, 242, 242, 60)      90060     \n",
            "                                                                 \n",
            " max_pooling2d (MaxPooling2D  (None, 121, 121, 60)     0         \n",
            " )                                                               \n",
            "                                                                 \n",
            " conv2d_2 (Conv2D)           (None, 119, 119, 30)      16230     \n",
            "                                                                 \n",
            " conv2d_3 (Conv2D)           (None, 117, 117, 30)      8130      \n",
            "                                                                 \n",
            " max_pooling2d_1 (MaxPooling  (None, 58, 58, 30)       0         \n",
            " 2D)                                                             \n",
            "                                                                 \n",
            " dropout (Dropout)           (None, 58, 58, 30)        0         \n",
            "                                                                 \n",
            " flatten (Flatten)           (None, 100920)            0         \n",
            "                                                                 \n",
            " dense (Dense)               (None, 1000)              100921000 \n",
            "                                                                 \n",
            " dropout_1 (Dropout)         (None, 1000)              0         \n",
            "                                                                 \n",
            " dense_1 (Dense)             (None, 4)                 4004      \n",
            "                                                                 \n",
            "=================================================================\n",
            "Total params: 101,040,984\n",
            "Trainable params: 101,040,984\n",
            "Non-trainable params: 0\n",
            "_________________________________________________________________\n",
            "None\n"
          ]
        },
        {
          "name": "stderr",
          "output_type": "stream",
          "text": [
            "/usr/local/lib/python3.7/dist-packages/keras/optimizer_v2/adam.py:105: UserWarning: The `lr` argument is deprecated, use `learning_rate` instead.\n",
            "  super(Adam, self).__init__(name, **kwargs)\n"
          ]
        }
      ],
      "source": [
        "model = myModel()  # create the model\n",
        "print('++++++++++++++ MODEL CREATED ++++++++++')\n",
        "print(model.summary())"
      ]
    },
    {
      "cell_type": "code",
      "execution_count": null,
      "metadata": {
        "colab": {
          "background_save": true,
          "base_uri": "https://localhost:8080/"
        },
        "id": "kDul2ufG-vKb",
        "outputId": "9a357baf-6bd9-46b3-e0eb-dba1a5530240"
      },
      "outputs": [
        {
          "name": "stdout",
          "output_type": "stream",
          "text": [
            "Epoch 1/30\n",
            "3/3 [==============================] - 83s 25s/step - loss: 2.8938 - accuracy: 0.3780\n",
            "Epoch 2/30\n",
            "3/3 [==============================] - 78s 24s/step - loss: 1.5903 - accuracy: 0.2683\n",
            "Epoch 3/30\n",
            "3/3 [==============================] - 78s 24s/step - loss: 1.0395 - accuracy: 0.4390\n",
            "Epoch 4/30\n",
            "3/3 [==============================] - 78s 24s/step - loss: 0.7614 - accuracy: 0.6951\n",
            "Epoch 5/30\n",
            "3/3 [==============================] - 78s 24s/step - loss: 0.6626 - accuracy: 0.7683\n",
            "Epoch 6/30\n",
            "3/3 [==============================] - 79s 24s/step - loss: 0.5823 - accuracy: 0.8171\n",
            "Epoch 7/30\n",
            "3/3 [==============================] - 79s 24s/step - loss: 0.5029 - accuracy: 0.8293\n",
            "Epoch 8/30\n",
            "3/3 [==============================] - 79s 24s/step - loss: 0.4468 - accuracy: 0.8293\n",
            "Epoch 9/30\n",
            "3/3 [==============================] - 82s 25s/step - loss: 0.3695 - accuracy: 0.8902\n",
            "Epoch 10/30\n",
            "3/3 [==============================] - 79s 24s/step - loss: 0.3125 - accuracy: 0.9024\n",
            "Epoch 11/30\n",
            "3/3 [==============================] - 79s 24s/step - loss: 0.3308 - accuracy: 0.8780\n",
            "Epoch 12/30\n",
            "3/3 [==============================] - 79s 24s/step - loss: 0.3050 - accuracy: 0.9146\n",
            "Epoch 13/30\n",
            "3/3 [==============================] - 79s 24s/step - loss: 0.2540 - accuracy: 0.8780\n",
            "Epoch 14/30\n",
            "3/3 [==============================] - 79s 24s/step - loss: 0.1447 - accuracy: 0.9512\n",
            "Epoch 15/30\n",
            "3/3 [==============================] - 79s 24s/step - loss: 0.1280 - accuracy: 0.9634\n",
            "Epoch 16/30\n",
            "3/3 [==============================] - 79s 24s/step - loss: 0.0781 - accuracy: 0.9756\n",
            "Epoch 17/30\n",
            "3/3 [==============================] - 79s 24s/step - loss: 0.0424 - accuracy: 1.0000\n",
            "Epoch 18/30\n",
            "3/3 [==============================] - 79s 24s/step - loss: 0.0224 - accuracy: 1.0000\n",
            "Epoch 19/30\n",
            "3/3 [==============================] - 79s 24s/step - loss: 0.0169 - accuracy: 1.0000\n",
            "Epoch 20/30\n",
            "3/3 [==============================] - 79s 24s/step - loss: 0.0092 - accuracy: 1.0000\n",
            "Epoch 21/30\n",
            "3/3 [==============================] - 79s 24s/step - loss: 0.0144 - accuracy: 1.0000\n",
            "Epoch 22/30\n",
            "3/3 [==============================] - 78s 24s/step - loss: 0.0044 - accuracy: 1.0000\n",
            "Epoch 23/30\n",
            "3/3 [==============================] - 78s 24s/step - loss: 0.0160 - accuracy: 1.0000\n",
            "Epoch 24/30\n",
            "3/3 [==============================] - 79s 24s/step - loss: 0.0120 - accuracy: 0.9878\n",
            "Epoch 25/30\n",
            "3/3 [==============================] - 79s 24s/step - loss: 0.0033 - accuracy: 1.0000\n",
            "Epoch 26/30\n",
            "3/3 [==============================] - 79s 24s/step - loss: 0.0048 - accuracy: 1.0000\n",
            "Epoch 27/30\n",
            "3/3 [==============================] - 78s 24s/step - loss: 0.0045 - accuracy: 1.0000\n",
            "Epoch 28/30\n",
            "3/3 [==============================] - 78s 24s/step - loss: 8.2114e-04 - accuracy: 1.0000\n",
            "Epoch 29/30\n",
            "3/3 [==============================] - 78s 24s/step - loss: 0.0010 - accuracy: 1.0000\n",
            "Epoch 30/30\n",
            "3/3 [==============================] - 78s 24s/step - loss: 2.4645e-04 - accuracy: 1.0000\n",
            "+++++++++ MODEL FITTING DONE ++++++++++++\n"
          ]
        }
      ],
      "source": [
        "# STARTING THE TRAINING PROCESS\n",
        "history = model.fit(X_train, y_train, epochs=epochsVal)\n",
        "print('+++++++++ MODEL FITTING DONE ++++++++++++')"
      ]
    },
    {
      "cell_type": "code",
      "execution_count": null,
      "metadata": {
        "colab": {
          "background_save": true
        },
        "id": "2VZQN5bpFvnK",
        "outputId": "34c8dbd9-f21e-4f1c-d7f9-c6d0970532b4"
      },
      "outputs": [
        {
          "name": "stdout",
          "output_type": "stream",
          "text": [
            "Model file location /content/drive/MyDrive/Colab Notebooks/model.h5\n",
            "Creted model saved as, model.h5\n"
          ]
        }
      ],
      "source": [
        "# save model\n",
        "crnt_path ='/content/drive/'\n",
        "FLoc= os.path.join(crnt_path,'MyDrive','Colab Notebooks','model.h5')\n",
        "print('Model file location', FLoc)\n",
        "model.save(FLoc)\n",
        "print('Creted model saved as, model.h5')"
      ]
    }
  ],
  "metadata": {
    "colab": {
      "name": "pomodetectCreateModel-1.ipynb",
      "provenance": [],
      "include_colab_link": true
    },
    "kernelspec": {
      "display_name": "Python 3",
      "name": "python3"
    },
    "language_info": {
      "name": "python"
    }
  },
  "nbformat": 4,
  "nbformat_minor": 0
}