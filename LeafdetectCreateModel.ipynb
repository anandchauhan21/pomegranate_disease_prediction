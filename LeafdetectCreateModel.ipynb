{
  "nbformat": 4,
  "nbformat_minor": 0,
  "metadata": {
    "colab": {
      "name": "LeafdetectCreateModel.ipynb",
      "provenance": [],
      "include_colab_link": true
    },
    "kernelspec": {
      "name": "python3",
      "display_name": "Python 3"
    },
    "language_info": {
      "name": "python"
    }
  },
  "cells": [
    {
      "cell_type": "markdown",
      "metadata": {
        "id": "view-in-github",
        "colab_type": "text"
      },
      "source": [
        "<a href=\"https://colab.research.google.com/github/anandchauhan21/pomegranate_disease_prediction/blob/main/LeafdetectCreateModel.ipynb\" target=\"_parent\"><img src=\"https://colab.research.google.com/assets/colab-badge.svg\" alt=\"Open In Colab\"/></a>"
      ]
    },
    {
      "cell_type": "code",
      "metadata": {
        "colab": {
          "base_uri": "https://localhost:8080/"
        },
        "id": "cJo8jLrMpL6O",
        "outputId": "8d5561fe-707c-4c87-9ee0-d73b2cd62a49"
      },
      "source": [
        "# Load libraries\n",
        "import cv2\n",
        "import numpy as np\n",
        "from keras.layers import Dense\n",
        "from keras.layers import Dropout, Flatten\n",
        "from keras.layers.convolutional import Conv2D, MaxPooling2D\n",
        "from keras.models import Sequential\n",
        "from tensorflow.keras.optimizers import Adam\n",
        "from keras.utils.np_utils import to_categorical\n",
        "from pylab import *\n",
        "from skimage.color import rgb2hsv\n",
        "from sklearn.model_selection import train_test_split\n",
        "import matplotlib.pyplot as plt\n",
        "from matplotlib import patches\n",
        "import os\n",
        "from google.colab.patches import cv2_imshow\n",
        "\n",
        "print('Libraries imported...')"
      ],
      "execution_count": null,
      "outputs": [
        {
          "output_type": "stream",
          "name": "stdout",
          "text": [
            "Libraries imported...\n"
          ]
        }
      ]
    },
    {
      "cell_type": "code",
      "metadata": {
        "id": "YMj6oAk5pfXK"
      },
      "source": [
        "## leaf detect\n",
        "def LeafDetect(I):\n",
        "    Ig = cv2.GaussianBlur(I, (19, 19), 0)  # apply gaussian blur\n",
        "    Ihsv = rgb2hsv(Ig)  # convert to HSV\n",
        "    Ih = np.uint8(255 * Ihsv[:, :, 0])  # convert range 0-1 to 0-255\n",
        "    # Is = np.uint8(255 * Ihsv[:, :, 1])\n",
        "\n",
        "    # plt.imshow(Ih, cmap='gray')\n",
        "    # plt.title('hue image')\n",
        "    # plt.show()\n",
        "\n",
        "    Ib = 255 * np.uint8((Ih < 200) & (Ih > 50))  # apply hue saturation range filtering\n",
        "    # plt.imshow(Ib, cmap='gray')\n",
        "    # plt.title('mask1')\n",
        "    # plt.show()\n",
        "\n",
        "    kernel = np.ones((20, 20), np.uint8)  # create erosion kernel\n",
        "    Ie = cv2.erode(Ib, kernel, iterations=1)  # apply erosion\n",
        "    # plt.imshow(Ie, cmap='gray')\n",
        "    # plt.title('erode1')\n",
        "    # plt.show()\n",
        "\n",
        "    ## perform image closing using contour method\n",
        "    # Ic = cv2.morphologyEx(Ie, cv2.MORPH_CLOSE, kernel)# apply morphological processing\n",
        "    # plt.imshow(Ic, cmap='gray')\n",
        "    # plt.title('close')\n",
        "    # plt.show()\n",
        "\n",
        "    # Filter using contour area and remove small noise\n",
        "    cnts = cv2.findContours(Ib, cv2.RETR_TREE, cv2.CHAIN_APPROX_SIMPLE)\n",
        "    cnts = cnts[0] if len(cnts) == 2 else cnts[1]\n",
        "    for c in cnts:\n",
        "        area = cv2.contourArea(c)\n",
        "        if area < 10000:\n",
        "            cv2.drawContours(Ib, [c], -1, (0, 0, 0), -1)\n",
        "\n",
        "    # Morph close and invert image\n",
        "    kernel = cv2.getStructuringElement(cv2.MORPH_ELLIPSE, (10, 10))  # create elliptical kernel\n",
        "    Iclose = np.uint8(cv2.morphologyEx(Ib, cv2.MORPH_CLOSE, kernel, iterations=3))  # apply morphology process\n",
        "    # print(Iclose[50,:])\n",
        "    # plt.imshow(Iclose, cmap='gray')\n",
        "    # plt.title('countour')\n",
        "    # plt.show()\n",
        "\n",
        "    loc = np.array(np.where(Iclose == 255))  # find the while pixels\n",
        "    locr = loc[0, :]  # read raw locations\n",
        "    locc = loc[1, :]  # read column location\n",
        "\n",
        "    xmin = np.min(locc)\n",
        "    xmax = np.max(locc)\n",
        "    ymin = np.min(locr)\n",
        "    ymax = np.max(locr)\n",
        "    lwidth = xmax - xmin\n",
        "    lhght = ymax - ymin\n",
        "\n",
        "    #    fig, ax = plt.subplots(1, figsize=(16, 16))\n",
        "    #    ax.axis('off')\n",
        "    #    ax.imshow(I2, cmap=\"gray\")\n",
        "    #    rect = patches.Rectangle((xmin, ymin), lwidth, lhght, fill=False, linewidth=2, alpha=0.7, edgecolor='r',facecolor='none')\n",
        "    #    ax.add_patch(rect)\n",
        "    # plt.waitforbuttonpress()\n",
        "\n",
        "    Igray = cv2.cvtColor(I, cv2.COLOR_BGR2GRAY)  # convert to grayscale\n",
        "    Icut = Igray[ymin:ymax, xmin:xmax]  # crop the image\n",
        "    return Icut\n"
      ],
      "execution_count": null,
      "outputs": []
    },
    {
      "cell_type": "code",
      "metadata": {
        "colab": {
          "base_uri": "https://localhost:8080/"
        },
        "id": "loTHxPw_qgIf",
        "outputId": "77b1ce32-6317-4c05-8506-4e9afc4ae9b7"
      },
      "source": [
        "from google.colab import drive\n",
        "drive.mount('/content/drive')"
      ],
      "execution_count": null,
      "outputs": [
        {
          "output_type": "stream",
          "name": "stdout",
          "text": [
            "Drive already mounted at /content/drive; to attempt to forcibly remount, call drive.mount(\"/content/drive\", force_remount=True).\n"
          ]
        }
      ]
    },
    {
      "cell_type": "code",
      "metadata": {
        "colab": {
          "base_uri": "https://localhost:8080/"
        },
        "id": "dSTExt0ipjPw",
        "outputId": "7ad2b1ea-df0c-4803-a7f5-67b2e22507c5"
      },
      "source": [
        "##------------------------  folder processing  s--------------------\n",
        "current_path = os.getcwd()\n",
        "Colab_Path = os.path.join(current_path,'drive','MyDrive')\n",
        "ImageDB_Path = os.path.join(Colab_Path,'leaf')\n",
        "print(ImageDB_Path)\n"
      ],
      "execution_count": null,
      "outputs": [
        {
          "output_type": "stream",
          "name": "stdout",
          "text": [
            "/content/drive/MyDrive/leaf\n"
          ]
        }
      ]
    },
    {
      "cell_type": "code",
      "metadata": {
        "colab": {
          "base_uri": "https://localhost:8080/"
        },
        "id": "M_svYJQ5qCD3",
        "outputId": "3fe61f4a-121f-4db7-98c5-5e49a7ab5e42"
      },
      "source": [
        "############ IMPORTING DATA/IMAGES FROM FOLDERS\n",
        "RH = 250 # resize image height\n",
        "RW = 250 # resize image width\n",
        "count = 0\n",
        "images = []  # LIST CONTAINING ALL THE IMAGES\n",
        "classNo = []  # LIST CONTAINING ALL THE CORRESPONDING CLASS ID OF IMAGES\n",
        "myList = os.listdir(ImageDB_Path)  # print the path\n",
        "print('*********   Pomo Leaf based desease detection ************')\n",
        "print(\"Total Classes Detected:\", len(myList))  # list the total class (types of pomo, here only 2)\n",
        "noOfClasses = len(myList)  # length of list\n",
        "print(\"Importing Classes .......\")\n",
        "\n",
        "for FolderName in range(0, noOfClasses):  # read all folders\n",
        "    PicLocations = os.path.join(ImageDB_Path,str(FolderName))\n",
        "    myPicList = os.listdir(PicLocations)  # read folder\n",
        "    print('\\n\\n *********************Reading folder: ', FolderName, end=\", ******************************\\n\")\n",
        "    for Files in myPicList:  # read all images in a folder\n",
        "        tpath = os.path.join(PicLocations,Files)\n",
        "        #tpath = ImageDB_Path + \"\\\\\" + str(FolderName) + \"\\\\\" + Files # create path of image\n",
        "        print(tpath)\n",
        "        curImg = cv2.imread(tpath)  # read image\n",
        "        Igray = cv2.cvtColor(curImg, cv2.COLOR_BGR2GRAY)  # convert rgb 2 gray\n",
        "        Icut = LeafDetect(curImg)  # detect pomo area in that image\n",
        "        # Icut2 = Igray\n",
        "        Icut2 = Icut / 255  # scale the image\n",
        "        Ir = cv2.resize(Icut2, (RH, RW))  # resize the image to 125x125\n",
        "\n",
        "        images.append(Ir)  # append to image database\n",
        "        classNo.append(FolderName)  # append classes to classes database\n",
        "\n",
        "print(\" \")\n",
        "print(\"Total Images in Images List = \", len(images))\n",
        "print(\"Total IDS in classNo List= \", len(classNo))"
      ],
      "execution_count": null,
      "outputs": [
        {
          "output_type": "stream",
          "name": "stdout",
          "text": [
            "*********   Pomo Leaf based desease detection ************\n",
            "Total Classes Detected: 2\n",
            "Importing Classes .......\n",
            "\n",
            "\n",
            " *********************Reading folder:  0, ******************************\n",
            "/content/drive/MyDrive/leaf/0/DSC02320.JPG\n",
            "/content/drive/MyDrive/leaf/0/DSC02354.JPG\n",
            "/content/drive/MyDrive/leaf/0/DSC02341.JPG\n",
            "/content/drive/MyDrive/leaf/0/DSC02356.JPG\n",
            "/content/drive/MyDrive/leaf/0/DSC02343.JPG\n",
            "/content/drive/MyDrive/leaf/0/DSC02316.JPG\n",
            "/content/drive/MyDrive/leaf/0/DSC02334.JPG\n",
            "/content/drive/MyDrive/leaf/0/DSC02402.JPG\n",
            "/content/drive/MyDrive/leaf/0/DSC02338.JPG\n",
            "/content/drive/MyDrive/leaf/0/DSC02357.JPG\n",
            "/content/drive/MyDrive/leaf/0/DSC02403.JPG\n",
            "/content/drive/MyDrive/leaf/0/DSC02406.JPG\n",
            "/content/drive/MyDrive/leaf/0/DSC02358.JPG\n",
            "/content/drive/MyDrive/leaf/0/DSC02319.JPG\n",
            "/content/drive/MyDrive/leaf/0/DSC02321.JPG\n",
            "/content/drive/MyDrive/leaf/0/DSC02355.JPG\n",
            "/content/drive/MyDrive/leaf/0/DSC02352.JPG\n",
            "/content/drive/MyDrive/leaf/0/DSC02310.jpg\n",
            "/content/drive/MyDrive/leaf/0/DSC02364.JPG\n",
            "/content/drive/MyDrive/leaf/0/DSC02326.JPG\n",
            "/content/drive/MyDrive/leaf/0/DSC02405.JPG\n",
            "/content/drive/MyDrive/leaf/0/DSC02342.JPG\n",
            "/content/drive/MyDrive/leaf/0/DSC02349.JPG\n",
            "/content/drive/MyDrive/leaf/0/DSC02353.JPG\n",
            "/content/drive/MyDrive/leaf/0/DSC02429.JPG\n",
            "/content/drive/MyDrive/leaf/0/DSC02339.JPG\n",
            "/content/drive/MyDrive/leaf/0/DSC02348.JPG\n",
            "/content/drive/MyDrive/leaf/0/DSC02332.JPG\n",
            "/content/drive/MyDrive/leaf/0/DSC02318.JPG\n",
            "/content/drive/MyDrive/leaf/0/DSC02268.JPG\n",
            "/content/drive/MyDrive/leaf/0/DSC02315.JPG\n",
            "/content/drive/MyDrive/leaf/0/DSC02340.JPG\n",
            "/content/drive/MyDrive/leaf/0/DSC02327.JPG\n",
            "\n",
            "\n",
            " *********************Reading folder:  1, ******************************\n",
            "/content/drive/MyDrive/leaf/1/DSC02393.JPG\n",
            "/content/drive/MyDrive/leaf/1/DSC02410.JPG\n",
            "/content/drive/MyDrive/leaf/1/DSC02261.JPG\n",
            "/content/drive/MyDrive/leaf/1/DSC02392.JPG\n",
            "/content/drive/MyDrive/leaf/1/DSC02378.JPG\n",
            "/content/drive/MyDrive/leaf/1/DSC02361.JPG\n",
            "/content/drive/MyDrive/leaf/1/DSC02362.JPG\n",
            "/content/drive/MyDrive/leaf/1/DSC02244.JPG\n",
            "/content/drive/MyDrive/leaf/1/DSC02387.JPG\n",
            "/content/drive/MyDrive/leaf/1/DSC02363.JPG\n",
            "/content/drive/MyDrive/leaf/1/DSC02400.JPG\n",
            "/content/drive/MyDrive/leaf/1/DSC02265.JPG\n",
            "/content/drive/MyDrive/leaf/1/DSC02306.JPG\n",
            "/content/drive/MyDrive/leaf/1/DSC02243.JPG\n",
            "/content/drive/MyDrive/leaf/1/DSC02245.JPG\n",
            "/content/drive/MyDrive/leaf/1/DSC02313.JPG\n",
            "/content/drive/MyDrive/leaf/1/DSC02309.JPG\n",
            "/content/drive/MyDrive/leaf/1/DSC02382.JPG\n",
            "/content/drive/MyDrive/leaf/1/DSC02415.JPG\n",
            "/content/drive/MyDrive/leaf/1/DSC02329.JPG\n",
            "/content/drive/MyDrive/leaf/1/DSC02331.JPG\n",
            "/content/drive/MyDrive/leaf/1/DSC02375.JPG\n",
            "/content/drive/MyDrive/leaf/1/DSC02412.JPG\n",
            "/content/drive/MyDrive/leaf/1/DSC02304.JPG\n",
            "/content/drive/MyDrive/leaf/1/DSC02260.jpg\n",
            "/content/drive/MyDrive/leaf/1/DSC02407.JPG\n",
            "/content/drive/MyDrive/leaf/1/DSC02303.JPG\n",
            "/content/drive/MyDrive/leaf/1/DSC02391.JPG\n",
            "/content/drive/MyDrive/leaf/1/DSC02336.JPG\n",
            "/content/drive/MyDrive/leaf/1/DSC02398.JPG\n",
            "/content/drive/MyDrive/leaf/1/DSC02381.JPG\n",
            "/content/drive/MyDrive/leaf/1/DSC02384.JPG\n",
            "/content/drive/MyDrive/leaf/1/DSC02396.JPG\n",
            "/content/drive/MyDrive/leaf/1/DSC02416.JPG\n",
            "/content/drive/MyDrive/leaf/1/DSC02365.JPG\n",
            "/content/drive/MyDrive/leaf/1/DSC02359.JPG\n",
            "/content/drive/MyDrive/leaf/1/DSC02312.JPG\n",
            "/content/drive/MyDrive/leaf/1/DSC02305.JPG\n",
            "/content/drive/MyDrive/leaf/1/DSC02333.JPG\n",
            "/content/drive/MyDrive/leaf/1/DSC02422.JPG\n",
            "/content/drive/MyDrive/leaf/1/DSC02394.JPG\n",
            "/content/drive/MyDrive/leaf/1/DSC02385.JPG\n",
            "/content/drive/MyDrive/leaf/1/DSC02372.JPG\n",
            "/content/drive/MyDrive/leaf/1/DSC02409.JPG\n",
            "/content/drive/MyDrive/leaf/1/DSC02397.JPG\n",
            "/content/drive/MyDrive/leaf/1/DSC02389.JPG\n",
            "/content/drive/MyDrive/leaf/1/DSC02335.JPG\n",
            "/content/drive/MyDrive/leaf/1/DSC02322.JPG\n",
            "/content/drive/MyDrive/leaf/1/DSC02351.JPG\n",
            "/content/drive/MyDrive/leaf/1/DSC02328.JPG\n",
            "/content/drive/MyDrive/leaf/1/DSC02259.JPG\n",
            "/content/drive/MyDrive/leaf/1/DSC02267.JPG\n",
            "/content/drive/MyDrive/leaf/1/DSC02386.JPG\n",
            "/content/drive/MyDrive/leaf/1/DSC02414.JPG\n",
            "/content/drive/MyDrive/leaf/1/DSC02395.JPG\n",
            "/content/drive/MyDrive/leaf/1/DSC02379.JPG\n",
            "/content/drive/MyDrive/leaf/1/DSC02374.JPG\n",
            "/content/drive/MyDrive/leaf/1/DSC02401.JPG\n",
            "/content/drive/MyDrive/leaf/1/DSC02308.JPG\n",
            "/content/drive/MyDrive/leaf/1/DSC02350.JPG\n",
            "/content/drive/MyDrive/leaf/1/DSC02411.JPG\n",
            "/content/drive/MyDrive/leaf/1/DSC02337.JPG\n",
            "/content/drive/MyDrive/leaf/1/DSC02371.JPG\n",
            "/content/drive/MyDrive/leaf/1/DSC02257.JPG\n",
            "/content/drive/MyDrive/leaf/1/DSC02380.JPG\n",
            "/content/drive/MyDrive/leaf/1/DSC02311.JPG\n",
            "/content/drive/MyDrive/leaf/1/DSC02377.JPG\n",
            "/content/drive/MyDrive/leaf/1/DSC02408.JPG\n",
            "/content/drive/MyDrive/leaf/1/DSC02417.JPG\n",
            "/content/drive/MyDrive/leaf/1/DSC02369.JPG\n",
            "/content/drive/MyDrive/leaf/1/DSC02373.JPG\n",
            "/content/drive/MyDrive/leaf/1/DSC02324.JPG\n",
            "/content/drive/MyDrive/leaf/1/DSC02376.JPG\n",
            "/content/drive/MyDrive/leaf/1/DSC02383.JPG\n",
            "/content/drive/MyDrive/leaf/1/DSC02399.JPG\n",
            "/content/drive/MyDrive/leaf/1/DSC02413.JPG\n",
            " \n",
            "Total Images in Images List =  109\n",
            "Total IDS in classNo List=  109\n"
          ]
        }
      ]
    },
    {
      "cell_type": "code",
      "metadata": {
        "colab": {
          "base_uri": "https://localhost:8080/"
        },
        "id": "0BWw6pgsrKPx",
        "outputId": "d3ea8c91-358c-42c0-e7c7-acaf739f08f5"
      },
      "source": [
        "#### CONVERT TO NUMPY ARRAY\n",
        "images = np.array(images)\n",
        "classNo = np.array(classNo)\n",
        "print('image size=' + str(images.shape))\n",
        "\n",
        "#### SPLITTING THE DATA\n",
        "testRatio = 0.2 # test image ratio\n",
        "valRatio = 0.2 # validation image ratio\n",
        "imageDimensions = (RH, RW, 3)  # image dimension for processing\n",
        "batchSizeVal = 2 # batch size of processing\n",
        "epochsVal = 30  # no of epoch for making algorithm best fit\n",
        "stepsPerEpochVal = 2000\n",
        "print(\"Parameters initialised\")\n"
      ],
      "execution_count": null,
      "outputs": [
        {
          "output_type": "stream",
          "name": "stdout",
          "text": [
            "image size=(109, 250, 250)\n",
            "Parameters initialised\n"
          ]
        }
      ]
    },
    {
      "cell_type": "code",
      "metadata": {
        "colab": {
          "base_uri": "https://localhost:8080/"
        },
        "id": "w31zmzyJrdiX",
        "outputId": "beb80811-c81c-4f05-968b-ba8e3214883a"
      },
      "source": [
        "# split the training and test images\n",
        "X_train, X_test, y_train, y_test = train_test_split(images, classNo, test_size=testRatio)\n",
        "X_train, X_validation, y_train, y_validation = train_test_split(X_train, y_train, test_size=valRatio)\n",
        "print('Training Image size=' + str(X_train.shape))\n",
        "print('Test Image size=' + str(X_test.shape))\n",
        "print('Validation images size=' + str(X_validation.shape))\n",
        "\n",
        "X_train = np.array(list(X_train)) # convert to numpy array\n",
        "X_test = np.array(list(X_test)) # convert to numpy array\n",
        "X_validation = np.array(list(X_validation)) # convert to numpy array\n",
        "\n",
        "#### RESHAPE IMAGE DATABASES\n",
        "print(X_train.shape[0], X_train.shape[1], X_train.shape[2])\n",
        "X_train = X_train.reshape(X_train.shape[0], X_train.shape[1], X_train.shape[2], 1)\n",
        "X_test = X_test.reshape(X_test.shape[0], X_test.shape[1], X_test.shape[2], 1)\n",
        "X_validation = X_validation.reshape(X_validation.shape[0], X_validation.shape[1], X_validation.shape[2], 1)\n",
        "print('Image data reshaping done')\n",
        "\n",
        "#### ONE HOT ENCODING OF MATRICES\n",
        "y_train = to_categorical(y_train, noOfClasses)\n",
        "y_test = to_categorical(y_test, noOfClasses)\n",
        "y_validation = to_categorical(y_validation, noOfClasses)\n"
      ],
      "execution_count": null,
      "outputs": [
        {
          "output_type": "stream",
          "name": "stdout",
          "text": [
            "Training Image size=(69, 250, 250)\n",
            "Test Image size=(22, 250, 250)\n",
            "Validation images size=(18, 250, 250)\n",
            "69 250 250\n",
            "Image data reshaping done\n"
          ]
        }
      ]
    },
    {
      "cell_type": "code",
      "metadata": {
        "id": "uJLh1Lw2rh4U"
      },
      "source": [
        "#### CREATING THE MODEL\n",
        "def myModel():\n",
        "    noOfFilters = 60  # no of filters to be used\n",
        "    sizeOfFilter1 = (5, 5)  # first convolution filter size\n",
        "    sizeOfFilter2 = (3, 3)  # second convolution filter size\n",
        "    sizeOfPool = (2, 2)\n",
        "    noOfNodes = 500  # no of NN nodes\n",
        "\n",
        "    model = Sequential()  # initialise model type\n",
        "    model.add((Conv2D(noOfFilters, sizeOfFilter1, input_shape=(imageDimensions[0],\n",
        "                                                               imageDimensions[1], 1),\n",
        "                      activation='relu')))  # add layer 1\n",
        "    model.add((Conv2D(noOfFilters, sizeOfFilter1, activation='relu')))  # layer 2\n",
        "    model.add(MaxPooling2D(pool_size=sizeOfPool))\n",
        "    model.add((Conv2D(noOfFilters // 2, sizeOfFilter2, activation='relu')))  # layer 3\n",
        "    model.add((Conv2D(noOfFilters // 2, sizeOfFilter2, activation='relu')))  # layer 4\n",
        "    model.add(MaxPooling2D(pool_size=sizeOfPool))\n",
        "    model.add(Dropout(0.5))\n",
        "\n",
        "    model.add(Flatten())  # convert 2D feature matrix to 1D vector\n",
        "    model.add(Dense(noOfNodes, activation='relu'))\n",
        "    model.add(Dropout(0.5))\n",
        "    model.add(Dense(noOfClasses, activation='softmax'))\n",
        "\n",
        "    model.compile(Adam(lr=0.001), loss='categorical_crossentropy', metrics=['accuracy'])  # compile the model\n",
        "    return model\n"
      ],
      "execution_count": null,
      "outputs": []
    },
    {
      "cell_type": "code",
      "metadata": {
        "colab": {
          "base_uri": "https://localhost:8080/"
        },
        "id": "fHlAv0vnrkIN",
        "outputId": "45e342a0-f15e-4600-caa5-efa732be8252"
      },
      "source": [
        "model = myModel()  # create the model\n",
        "print('++++++++++++++ MODEL CREATED ++++++++++')\n",
        "print(model.summary())\n"
      ],
      "execution_count": null,
      "outputs": [
        {
          "output_type": "stream",
          "name": "stdout",
          "text": [
            "++++++++++++++ MODEL CREATED ++++++++++\n",
            "Model: \"sequential\"\n",
            "_________________________________________________________________\n",
            "Layer (type)                 Output Shape              Param #   \n",
            "=================================================================\n",
            "conv2d (Conv2D)              (None, 246, 246, 60)      1560      \n",
            "_________________________________________________________________\n",
            "conv2d_1 (Conv2D)            (None, 242, 242, 60)      90060     \n",
            "_________________________________________________________________\n",
            "max_pooling2d (MaxPooling2D) (None, 121, 121, 60)      0         \n",
            "_________________________________________________________________\n",
            "conv2d_2 (Conv2D)            (None, 119, 119, 30)      16230     \n",
            "_________________________________________________________________\n",
            "conv2d_3 (Conv2D)            (None, 117, 117, 30)      8130      \n",
            "_________________________________________________________________\n",
            "max_pooling2d_1 (MaxPooling2 (None, 58, 58, 30)        0         \n",
            "_________________________________________________________________\n",
            "dropout (Dropout)            (None, 58, 58, 30)        0         \n",
            "_________________________________________________________________\n",
            "flatten (Flatten)            (None, 100920)            0         \n",
            "_________________________________________________________________\n",
            "dense (Dense)                (None, 500)               50460500  \n",
            "_________________________________________________________________\n",
            "dropout_1 (Dropout)          (None, 500)               0         \n",
            "_________________________________________________________________\n",
            "dense_1 (Dense)              (None, 2)                 1002      \n",
            "=================================================================\n",
            "Total params: 50,577,482\n",
            "Trainable params: 50,577,482\n",
            "Non-trainable params: 0\n",
            "_________________________________________________________________\n",
            "None\n"
          ]
        },
        {
          "output_type": "stream",
          "name": "stderr",
          "text": [
            "/usr/local/lib/python3.7/dist-packages/keras/optimizer_v2/optimizer_v2.py:356: UserWarning: The `lr` argument is deprecated, use `learning_rate` instead.\n",
            "  \"The `lr` argument is deprecated, use `learning_rate` instead.\")\n"
          ]
        }
      ]
    },
    {
      "cell_type": "code",
      "metadata": {
        "colab": {
          "base_uri": "https://localhost:8080/"
        },
        "id": "Uufu_uL5rt0c",
        "outputId": "f7b53120-3ea4-4def-a668-dec096aef105"
      },
      "source": [
        "# save model\n",
        "crnt_path ='/content/drive/'\n",
        "FLoc= os.path.join(crnt_path,'MyDrive','Colab Notebooks','model-leaf.h5')\n",
        "print('Model file location', FLoc)\n",
        "model.save(FLoc)\n",
        "print('Creted model saved as, model-leaf.h5')"
      ],
      "execution_count": null,
      "outputs": [
        {
          "output_type": "stream",
          "name": "stdout",
          "text": [
            "Model file location /content/drive/MyDrive/Colab Notebooks/model-leaf.h5\n",
            "Creted model saved as, model-leaf.h5\n"
          ]
        }
      ]
    }
  ]
}